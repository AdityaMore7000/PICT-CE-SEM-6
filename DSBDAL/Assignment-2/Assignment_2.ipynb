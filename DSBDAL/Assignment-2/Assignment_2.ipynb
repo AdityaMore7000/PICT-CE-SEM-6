{
 "cells": [
  {
   "cell_type": "markdown",
   "metadata": {},
   "source": [
    "### Assignment A-2\n",
    "\n",
    "#### Create an “Academic performance” dataset of students and perform the following operations using Python. \n",
    "1.Scan all variables for missing values and inconsistencies. If there are missing values and/or inconsistencies, use any of the suitable techniques to deal with them.\n",
    "\n",
    "2.Scan all numeric variables for outliers. If there are outliers, use any of the suitable techniques to deal with them.\n",
    "\n",
    "3.Apply  data  transformations  on  at  least  one  of  the  variables.  The  purpose  of  this transformation should be one of the following reasons: to change the scale for better understanding of the variable, to convert a non-linear relation into a linear one, or to decrease the skewness and convert the distribution into a normal distribution.\n",
    "\n",
    "##### Reason and document your approach properly."
   ]
  },
  {
   "cell_type": "markdown",
   "metadata": {},
   "source": [
    "### Importing Libraries"
   ]
  },
  {
   "cell_type": "code",
   "execution_count": 62,
   "metadata": {},
   "outputs": [],
   "source": [
    "import numpy as np\n",
    "import matplotlib.pyplot as plt\n",
    "import pandas as pd \n",
    "import seaborn as sns "
   ]
  },
  {
   "cell_type": "markdown",
   "metadata": {},
   "source": [
    "### Loading Dataset and reviewing it"
   ]
  },
  {
   "cell_type": "code",
   "execution_count": 63,
   "metadata": {},
   "outputs": [
    {
     "name": "stdout",
     "output_type": "stream",
     "text": [
      "   gender race/ethnicity parental level of education         lunch  \\\n",
      "0  female        group B           bachelor's degree      standard   \n",
      "1  female        group C                some college      standard   \n",
      "2  female        group B             master's degree      standard   \n",
      "3    male        group A          associate's degree  free/reduced   \n",
      "4    male        group C                some college      standard   \n",
      "\n",
      "  test preparation course math score  reading score  writing score  \n",
      "0                    none         72           72.0           74.0  \n",
      "1               completed         69           90.0           88.0  \n",
      "2                    none         90           95.0           93.0  \n",
      "3                    none         47           57.0           44.0  \n",
      "4                    none         76           78.0           75.0  \n",
      "\n",
      "Dimension of the data frame: (1000, 8)\n"
     ]
    }
   ],
   "source": [
    "df = pd.read_csv('./exam_data.csv', encoding='latin1')\n",
    "print(df.head())\n",
    "print()\n",
    "print(f'Dimension of the data frame: {df.shape}')"
   ]
  },
  {
   "cell_type": "code",
   "execution_count": 64,
   "metadata": {},
   "outputs": [
    {
     "data": {
      "text/plain": [
       "gender                          object\n",
       "race/ethnicity                  object\n",
       "parental level of education     object\n",
       "lunch                           object\n",
       "test preparation course         object\n",
       "math score                      object\n",
       "reading score                  float64\n",
       "writing score                  float64\n",
       "dtype: object"
      ]
     },
     "execution_count": 64,
     "metadata": {},
     "output_type": "execute_result"
    }
   ],
   "source": [
    "df.dtypes"
   ]
  },
  {
   "cell_type": "markdown",
   "metadata": {},
   "source": [
    "#### Finding Missing values"
   ]
  },
  {
   "cell_type": "code",
   "execution_count": 65,
   "metadata": {},
   "outputs": [
    {
     "name": "stdout",
     "output_type": "stream",
     "text": [
      "Missing values: \n",
      "gender                         0\n",
      "race/ethnicity                 0\n",
      "parental level of education    0\n",
      "lunch                          0\n",
      "test preparation course        0\n",
      "math score                     8\n",
      "reading score                  6\n",
      "writing score                  9\n",
      "dtype: int64\n"
     ]
    }
   ],
   "source": [
    "missing_values = df.isnull().sum()\n",
    "print(f'Missing values: \\n{missing_values}')"
   ]
  },
  {
   "cell_type": "markdown",
   "metadata": {},
   "source": [
    "##### Getting a description of the dataframe"
   ]
  },
  {
   "cell_type": "code",
   "execution_count": 66,
   "metadata": {},
   "outputs": [
    {
     "name": "stdout",
     "output_type": "stream",
     "text": [
      "Summary of the dataset :\n",
      "       reading score  writing score\n",
      "count     994.000000     991.000000\n",
      "mean       68.008048      69.487386\n",
      "std        16.602270      29.563757\n",
      "min         3.000000      10.000000\n",
      "25%        58.000000      57.000000\n",
      "50%        69.500000      69.000000\n",
      "75%        79.000000      79.000000\n",
      "max       100.000000     567.000000\n"
     ]
    }
   ],
   "source": [
    "summary = df.describe()\n",
    "print(f'Summary of the dataset :\\n{summary}')"
   ]
  },
  {
   "cell_type": "markdown",
   "metadata": {},
   "source": [
    "##### Converting dtype of ```math score``` from ```object``` to ```float64``` and replacing ```?``` with `NaN`.Replacing all missing values with `Nan`"
   ]
  },
  {
   "cell_type": "code",
   "execution_count": 67,
   "metadata": {},
   "outputs": [
    {
     "data": {
      "text/plain": [
       "gender                          object\n",
       "race/ethnicity                  object\n",
       "parental level of education     object\n",
       "lunch                           object\n",
       "test preparation course         object\n",
       "math score                     float64\n",
       "reading score                  float64\n",
       "writing score                  float64\n",
       "dtype: object"
      ]
     },
     "execution_count": 67,
     "metadata": {},
     "output_type": "execute_result"
    }
   ],
   "source": [
    "df['math score'] = df['math score'].replace('?', np.nan)\n",
    "df['math score'] = df['math score'].astype('float64')\n",
    "df['reading score'].replace(' ',np.nan, inplace=True)\n",
    "df['writing score'].replace(' ',np.nan, inplace=True)\n",
    "df.dtypes"
   ]
  },
  {
   "cell_type": "code",
   "execution_count": 68,
   "metadata": {},
   "outputs": [
    {
     "data": {
      "text/plain": [
       "gender                          0\n",
       "race/ethnicity                  0\n",
       "parental level of education     0\n",
       "lunch                           0\n",
       "test preparation course         0\n",
       "math score                     43\n",
       "reading score                   6\n",
       "writing score                   9\n",
       "dtype: int64"
      ]
     },
     "execution_count": 68,
     "metadata": {},
     "output_type": "execute_result"
    }
   ],
   "source": [
    "df.isnull().sum()"
   ]
  },
  {
   "cell_type": "markdown",
   "metadata": {},
   "source": [
    "##### Using Interquartile Range to detect outliers for  `math score`  field"
   ]
  },
  {
   "cell_type": "code",
   "execution_count": 69,
   "metadata": {},
   "outputs": [
    {
     "data": {
      "text/plain": [
       "59       0.0\n",
       "145     22.0\n",
       "338     24.0\n",
       "420    113.0\n",
       "431    123.0\n",
       "456    -89.0\n",
       "466     26.0\n",
       "474    334.0\n",
       "787     19.0\n",
       "842     23.0\n",
       "980      8.0\n",
       "Name: math score, dtype: float64"
      ]
     },
     "execution_count": 69,
     "metadata": {},
     "output_type": "execute_result"
    }
   ],
   "source": [
    "Q1 = df['math score'].quantile(0.25)\n",
    "Q3 = df['math score'].quantile(0.75)\n",
    "IQR = Q3 - Q1\n",
    "lower_bound = Q1 - 1.5*IQR\n",
    "upper_bound = Q3 + 1.5*IQR\n",
    "\n",
    "outliers = df[(df['math score'] < lower_bound) | (df['math score'] > upper_bound)]\n",
    "outliers['math score'].dropna()"
   ]
  },
  {
   "cell_type": "markdown",
   "metadata": {},
   "source": [
    "##### Using Interquartile Range to detect outliers for  `reading score`  field"
   ]
  },
  {
   "cell_type": "code",
   "execution_count": 70,
   "metadata": {},
   "outputs": [
    {
     "data": {
      "text/plain": [
       "18     22.0\n",
       "19     22.0\n",
       "20     12.0\n",
       "21     12.0\n",
       "22     13.0\n",
       "23     14.0\n",
       "24      9.0\n",
       "25      8.0\n",
       "26      7.0\n",
       "27      6.0\n",
       "28      4.0\n",
       "29      3.0\n",
       "30      5.0\n",
       "31      6.0\n",
       "33     22.0\n",
       "34     11.0\n",
       "35     11.0\n",
       "36     12.0\n",
       "37     12.0\n",
       "59     17.0\n",
       "76     26.0\n",
       "327    23.0\n",
       "596    24.0\n",
       "980    24.0\n",
       "Name: reading score, dtype: float64"
      ]
     },
     "execution_count": 70,
     "metadata": {},
     "output_type": "execute_result"
    }
   ],
   "source": [
    "Q1 = df['reading score'].quantile(0.25)\n",
    "Q3 = df['reading score'].quantile(0.75)\n",
    "IQR = Q3 - Q1\n",
    "lower_bound = Q1 - 1.5*IQR\n",
    "upper_bound = Q3 + 1.5*IQR\n",
    "\n",
    "outliers = df[(df['reading score'] < lower_bound) | (df['reading score'] > upper_bound)]\n",
    "outliers['reading score'].dropna()"
   ]
  },
  {
   "cell_type": "markdown",
   "metadata": {},
   "source": [
    "##### Using Interquartile Range to detect outliers for  `writing score`  field"
   ]
  },
  {
   "cell_type": "code",
   "execution_count": 71,
   "metadata": {},
   "outputs": [
    {
     "data": {
      "text/plain": [
       "59      10.0\n",
       "76      22.0\n",
       "327     19.0\n",
       "465    114.0\n",
       "542    455.0\n",
       "591    567.0\n",
       "596     15.0\n",
       "651    554.0\n",
       "980     23.0\n",
       "Name: writing score, dtype: float64"
      ]
     },
     "execution_count": 71,
     "metadata": {},
     "output_type": "execute_result"
    }
   ],
   "source": [
    "Q1 = df['writing score'].quantile(0.25)\n",
    "Q3 = df['writing score'].quantile(0.75)\n",
    "IQR = Q3 - Q1\n",
    "lower_bound = Q1 - 1.5*IQR\n",
    "upper_bound = Q3 + 1.5*IQR\n",
    "\n",
    "outliers = df[(df['writing score'] < lower_bound) | (df['writing score'] > upper_bound)]\n",
    "outliers['writing score'].dropna()"
   ]
  }
 ],
 "metadata": {
  "kernelspec": {
   "display_name": "Python 3",
   "language": "python",
   "name": "python3"
  },
  "language_info": {
   "codemirror_mode": {
    "name": "ipython",
    "version": 3
   },
   "file_extension": ".py",
   "mimetype": "text/x-python",
   "name": "python",
   "nbconvert_exporter": "python",
   "pygments_lexer": "ipython3",
   "version": "3.10.13"
  }
 },
 "nbformat": 4,
 "nbformat_minor": 2
}
